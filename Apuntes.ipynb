{
 "cells": [
  {
   "cell_type": "markdown",
   "metadata": {},
   "source": [
    "## **Apuntes generales - PostGreSQL**"
   ]
  },
  {
   "cell_type": "markdown",
   "metadata": {},
   "source": [
    "Se puede usar un cliente tipo aplicación : pgAdmin  \n",
    "O un cliente tipo linea de comandos: psql"
   ]
  },
  {
   "cell_type": "markdown",
   "metadata": {},
   "source": [
    "**Crear Usuario y Base de datos:**  \n",
    "CREATE USER pg4e WITH PASSWORD 'contraseña';  \n",
    "CREATE DATABASE people WITH OWNER 'pg4e';  \n",
    "\\q nos saca de la sesión una vez realizadas las creaciones.\n",
    "\n",
    "**Crear tabla \"users\":**  \n",
    "CREATE TABLE users(  \n",
    "    name VARCHAR(128),  \n",
    "    email VARCHAR(128)  \n",
    ");"
   ]
  },
  {
   "cell_type": "markdown",
   "metadata": {},
   "source": [
    "**Comandos psql:**\n",
    "- psql people pg4e\n",
    "    - Introducimos contraseña \n",
    "- \\dt :para mostrar tablas, si no se nos muestran, deberemos acceder con superuser\n",
    "- psql -U postgres :nos da acceso de superuser\n",
    "    - Introducimos contraseña \n",
    "- Creamos tabla \"users\".\n",
    "- \\dt: nos mostrará la lista de relaciones (tablas), veremos una p.ej de nombre \"users\", \"muestrame el schema\".\n",
    "- \\d+ users: nos muestra lo que contiene la tabla \"users\"."
   ]
  },
  {
   "cell_type": "code",
   "execution_count": 2,
   "metadata": {},
   "outputs": [],
   "source": [
    "import sqlalchemy"
   ]
  },
  {
   "cell_type": "code",
   "execution_count": 3,
   "metadata": {},
   "outputs": [
    {
     "ename": "SyntaxError",
     "evalue": "invalid syntax (3698779155.py, line 1)",
     "output_type": "error",
     "traceback": [
      "\u001b[1;36m  Cell \u001b[1;32mIn[3], line 1\u001b[1;36m\u001b[0m\n\u001b[1;33m    psql -h pg.pg4e.com -p 5432 -U pg4e_5ed380325b pg4e_5ed380325b\u001b[0m\n\u001b[1;37m            ^\u001b[0m\n\u001b[1;31mSyntaxError\u001b[0m\u001b[1;31m:\u001b[0m invalid syntax\n"
     ]
    }
   ],
   "source": [
    "psql -h pg.pg4e.com -p 5432 -U pg4e_5ed380325b pg4e_5ed380325b"
   ]
  }
 ],
 "metadata": {
  "kernelspec": {
   "display_name": "Python 3",
   "language": "python",
   "name": "python3"
  },
  "language_info": {
   "codemirror_mode": {
    "name": "ipython",
    "version": 3
   },
   "file_extension": ".py",
   "mimetype": "text/x-python",
   "name": "python",
   "nbconvert_exporter": "python",
   "pygments_lexer": "ipython3",
   "version": "3.10.11"
  },
  "orig_nbformat": 4
 },
 "nbformat": 4,
 "nbformat_minor": 2
}
