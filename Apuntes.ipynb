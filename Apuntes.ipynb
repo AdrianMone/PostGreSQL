{
 "cells": [
  {
   "cell_type": "markdown",
   "metadata": {},
   "source": [
    "## **Apuntes generales - PostGreSQL**"
   ]
  },
  {
   "cell_type": "markdown",
   "metadata": {},
   "source": [
    "Se puede usar un cliente tipo aplicación : pgAdmin  \n",
    "O un cliente tipo linea de comandos: psql"
   ]
  },
  {
   "cell_type": "markdown",
   "metadata": {},
   "source": [
    "**Crear Usuario y Base de datos:**  \n",
    "CREATE USER pg4e WITH PASSWORD 'contraseña';  \n",
    "CREATE DATABASE people WITH OWNER 'pg4e';  \n",
    "\\q nos saca de la sesión una vez realizadas las creaciones.\n",
    "\n",
    "**Crear tabla \"users\":**  \n",
    "CREATE TABLE users(  \n",
    "    name VARCHAR(128),  \n",
    "    email VARCHAR(128)  \n",
    ");"
   ]
  },
  {
   "cell_type": "markdown",
   "metadata": {},
   "source": [
    "**Comandos psql:**\n",
    "- psql people pg4e\n",
    "    - Introducimos contraseña \n",
    "- \\dt :para mostrar tablas, si no se nos muestran, deberemos acceder con superuser\n",
    "- psql -U postgres :nos da acceso de superuser\n",
    "    - Introducimos contraseña \n",
    "- Creamos tabla \"users\".\n",
    "- \\dt: nos mostrará la lista de relaciones (tablas), veremos una p.ej de nombre \"users\", \"muestrame el schema\".\n",
    "- \\d+ users: nos muestra lo que contiene la tabla \"users\"."
   ]
  }
 ],
 "metadata": {
  "language_info": {
   "name": "python"
  },
  "orig_nbformat": 4
 },
 "nbformat": 4,
 "nbformat_minor": 2
}
